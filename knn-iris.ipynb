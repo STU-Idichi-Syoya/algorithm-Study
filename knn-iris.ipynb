{
 "metadata": {
  "language_info": {
   "codemirror_mode": {
    "name": "ipython",
    "version": 3
   },
   "file_extension": ".py",
   "mimetype": "text/x-python",
   "name": "python",
   "nbconvert_exporter": "python",
   "pygments_lexer": "ipython3",
   "version": "3.8.6-final"
  },
  "orig_nbformat": 2,
  "kernelspec": {
   "name": "python3",
   "display_name": "Python 3.8.6 64-bit",
   "metadata": {
    "interpreter": {
     "hash": "1baa965d5efe3ac65b79dfc60c0d706280b1da80fedb7760faf2759126c4f253"
    }
   }
  }
 },
 "nbformat": 4,
 "nbformat_minor": 2,
 "cells": [
  {
   "cell_type": "code",
   "execution_count": 1,
   "metadata": {},
   "outputs": [],
   "source": [
    "from sklearn.datasets import load_iris\n",
    "iris = load_iris()"
   ]
  },
  {
   "cell_type": "code",
   "execution_count": 3,
   "metadata": {},
   "outputs": [
    {
     "output_type": "execute_result",
     "data": {
      "text/plain": [
       "150"
      ]
     },
     "metadata": {},
     "execution_count": 3
    }
   ],
   "source": [
    "iris.target_names\n",
    "len(iris.data)"
   ]
  },
  {
   "cell_type": "code",
   "execution_count": 24,
   "metadata": {},
   "outputs": [],
   "source": [
    "import numpy as np\n",
    "## webから引用\n",
    "def shuffle_samples(*args):\n",
    "    # *argsで可変長引数を受け取る。変数argsにリストで格納される\n",
    "\n",
    "    # unzipで複数配列のリスト -> 要素毎にまとめたタプルのリスト　に変換\n",
    "    zipped = list(zip(*args))\n",
    "    np.random.shuffle(zipped)\n",
    "\n",
    "    # unzipして複数配列のリストの形に戻す\n",
    "    shuffled = list(zip(*zipped))\n",
    "    \n",
    "    result = []\n",
    "    # np.arrayに変換する処理\n",
    "    for ar in shuffled:\n",
    "        result.append(np.asarray(ar))\n",
    "    return result"
   ]
  },
  {
   "cell_type": "code",
   "execution_count": 28,
   "metadata": {},
   "outputs": [],
   "source": [
    "\n",
    "## knnは今回のスクラッチ実装\n",
    "import knn \n",
    "LearnDataNum=int(len(iris.data)*0.8)\n",
    "datasets=[]\n",
    "testData=[]\n",
    "### iris.data --> vec, iris.target --> specのインデックス\n",
    "dataX,dataY=shuffle_samples(iris.data,iris.target)\n",
    "for vec,specIdx in zip(dataX[:LearnDataNum],dataY[:LearnDataNum]):\n",
    "    spec=iris.target_names[specIdx]\n",
    "    data=knn.Data(vec,spec)\n",
    "    datasets.append(data)\n",
    "for vec,specIdx in zip(dataX[LearnDataNum:],dataY[LearnDataNum:]):\n",
    "    spec=iris.target_names[specIdx]\n",
    "    data=knn.Data(vec,spec)\n",
    "    testData.append(data)"
   ]
  },
  {
   "cell_type": "code",
   "execution_count": 50,
   "metadata": {},
   "outputs": [],
   "source": [
    "def predicts(testData):\n",
    "    ans=[]\n",
    "    for d in testData:\n",
    "        c=knn.getNearVecSpec(d.vec,datasets,k=3)\n",
    "        # print(c)\n",
    "        cls=max(c,key=c.get)\n",
    "        ans.append(cls)\n",
    "    return ans"
   ]
  },
  {
   "cell_type": "code",
   "execution_count": 51,
   "metadata": {},
   "outputs": [
    {
     "output_type": "stream",
     "name": "stdout",
     "text": [
      "[[11  0  0]\n [ 0  9  2]\n [ 0  0  8]]\n"
     ]
    }
   ],
   "source": [
    "from sklearn.metrics import confusion_matrix\n",
    "predict = predicts(testData)\n",
    "y_test=[s.spec for s in testData]\n",
    "print(confusion_matrix(y_test,predict,labels=iris.target_names))"
   ]
  },
  {
   "cell_type": "code",
   "execution_count": 54,
   "metadata": {},
   "outputs": [
    {
     "output_type": "stream",
     "name": "stdout",
     "text": [
      "[[11  0  0]\n [ 0  9  2]\n [ 0  0  8]]\n"
     ]
    }
   ],
   "source": [
    "## sklearn による K近傍法の実装を試す．\n",
    "from sklearn.neighbors import KNeighborsClassifier\n",
    "clf=KNeighborsClassifier(n_neighbors=3)\n",
    "train_x=[d.vec for d in datasets]\n",
    "train_y=[d.spec for d in datasets]\n",
    "test_x=[d.vec for d in testData]\n",
    "test_y=[d.spec for d in testData]\n",
    "\n",
    "clf.fit(train_x,train_y)\n",
    "pre=clf.predict(test_x)\n",
    "print(confusion_matrix(test_y,pre))"
   ]
  },
  {
   "cell_type": "code",
   "execution_count": null,
   "metadata": {},
   "outputs": [],
   "source": []
  }
 ]
}